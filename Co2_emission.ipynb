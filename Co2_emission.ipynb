{
  "nbformat": 4,
  "nbformat_minor": 0,
  "metadata": {
    "colab": {
      "private_outputs": true,
      "provenance": [],
      "collapsed_sections": [
        "ALuIDKGNwLAN"
      ],
      "mount_file_id": "1I6Xq7-63SiBkcUEQC7LKW94_vSy5dHfH",
      "authorship_tag": "ABX9TyORhj5M4UFxnNXcF+NBDPQd",
      "include_colab_link": true
    },
    "kernelspec": {
      "name": "python3",
      "display_name": "Python 3"
    },
    "language_info": {
      "name": "python"
    }
  },
  "cells": [
    {
      "cell_type": "markdown",
      "metadata": {
        "id": "view-in-github",
        "colab_type": "text"
      },
      "source": [
        "<a href=\"https://colab.research.google.com/github/levicristiano/co2_emission/blob/main/Co2_emission.ipynb\" target=\"_parent\"><img src=\"https://colab.research.google.com/assets/colab-badge.svg\" alt=\"Open In Colab\"/></a>"
      ]
    },
    {
      "cell_type": "markdown",
      "source": [
        "\n",
        "\n",
        "---\n",
        "\n",
        "### Dados"
      ],
      "metadata": {
        "id": "ALuIDKGNwLAN"
      }
    },
    {
      "cell_type": "markdown",
      "source": [
        "Levi Cristiano - Estudo feito para analisar consumo de CO² por modelos de carros. No estudo utiliza o plot por matriz para auxiliar na compreensão dos dados.   \n",
        "\n",
        "Levi Cristiano - Study made to analyze CO² emissions by car models. In the study it uses the plot by matrix to help in the understanding of the data."
      ],
      "metadata": {
        "id": "aYk-eDORYStJ"
      }
    },
    {
      "cell_type": "markdown",
      "source": [
        "Importar Dados"
      ],
      "metadata": {
        "id": "_BuqVB6S9Hxk"
      }
    },
    {
      "cell_type": "code",
      "execution_count": null,
      "metadata": {
        "id": "kHEVgnEu8DQ-"
      },
      "outputs": [],
      "source": [
        "#importanto os bancos de dados\n",
        "\n",
        "import pandas as pd\n",
        "import matplotlib.pyplot as plt\n",
        "import numpy as np\n",
        "from sklearn.model_selection import train_test_split\n",
        "from sklearn.model_selection import StratifiedShuffleSplit"
      ]
    },
    {
      "cell_type": "markdown",
      "source": [
        "Arquivos"
      ],
      "metadata": {
        "id": "Cd4YW7tC9N1c"
      }
    },
    {
      "cell_type": "code",
      "source": [
        "#pandas para obtenção dos dados .csv\n",
        "dados = pd.read_csv(\"//content/drive/MyDrive/01 - ACADÊMICO/01 - IBMEC/01 - ACADÊMICO/06 - PERÍODO/03 - DATA MINING /Base de Dados/dataSample02.csv\", sep =\";\")"
      ],
      "metadata": {
        "id": "tbPbjC1s9SMN"
      },
      "execution_count": null,
      "outputs": []
    },
    {
      "cell_type": "code",
      "source": [
        "from google.colab import drive\n",
        "drive.mount('/content/drive')"
      ],
      "metadata": {
        "id": "aJmJiYtKWWNY"
      },
      "execution_count": null,
      "outputs": []
    },
    {
      "cell_type": "code",
      "source": [
        "dados.head()"
      ],
      "metadata": {
        "id": "0w5wFK4r-4Ps"
      },
      "execution_count": null,
      "outputs": []
    },
    {
      "cell_type": "code",
      "source": [
        "dados.describe()"
      ],
      "metadata": {
        "id": "hKWZYFeSBMPV"
      },
      "execution_count": null,
      "outputs": []
    },
    {
      "cell_type": "code",
      "source": [
        "dados.info()"
      ],
      "metadata": {
        "id": "Bl54OQVsa10b"
      },
      "execution_count": null,
      "outputs": []
    },
    {
      "cell_type": "code",
      "source": [
        "anodocarro = np.array(dados[\"MODELYEAR\"])\n",
        "tamanhomotor = np.array(dados[\"ENGINESIZE\"])\n",
        "cilindros = np.array(dados[\"CYLINDERS\"])\n",
        "consumo_na_cidade = np.array(dados[\"FUELCONSUMPTION_CITY\"])\n",
        "consumo_na_rodovia = np.array(dados[\"FUELCONSUMPTION_HWY\"])\n",
        "consumo_combinado = np.array(dados[\"FUELCONSUMPTION_COMB\"])\n",
        "consumo_mpg = np.array(dados[\"FUELCONSUMPTION_COMB_MPG\"])\n",
        "emissão = np.array(dados[\"CO2EMISSIONS\"])\n",
        "consumo_comb = np.array(dados[\"FUELCONSUMPTION_COMB\"])\n",
        "tipodoveículo = np.array(dados[\"VEHICLECLASS\"])\n",
        "modelodocarro = np.array(dados[\"MAKE\"])"
      ],
      "metadata": {
        "id": "eDcL1wWgf45g"
      },
      "execution_count": null,
      "outputs": []
    },
    {
      "cell_type": "markdown",
      "source": [
        "### Gráficos\n"
      ],
      "metadata": {
        "id": "IU_iBFzYwAin"
      }
    },
    {
      "cell_type": "markdown",
      "source": [
        "MODELYEAR - Company of the vehicle\n",
        "\n",
        "MAKE - Car Model\n",
        "\n",
        "VEHICLECLASS - Class of vehicle depending on their utility, capacity and weight\n",
        "\n",
        "ENGINESIZE - Size of engine used in Litre\n",
        "\n",
        "CYLINDERS - Number of cylinders\n",
        "\n",
        "TRANSMISSION - Transmission type with number of gears\n",
        "\n",
        "FUELTYPE - Type of Fuel used\n",
        "\n",
        "FUELCONSUMPTION_CITY - Fuel consumption in city roads (L/100 km)\n",
        "\n",
        "FUELCONSUMPTION_HWY - Fuel consumption in highways (L/100 km)\n",
        "\n",
        "FUELCONSUMPTION_COMB - The combined fuel consumption (55% city, 45% highway) is shown in L/100 km\n",
        "\n",
        "FUELCONSUMPTION_COMB_MPG - Fuel consumption in miles per gallon\n",
        "\n",
        "CO2EMISSIONS - Emission of CO2"
      ],
      "metadata": {
        "id": "tf4zEEFHdKAG"
      }
    },
    {
      "cell_type": "code",
      "source": [
        "plt.hist(emissão, color = \"orange\")\n",
        "plt.title(\"Frequência de emissões\")\n",
        "plt.xlabel(\"Frequência\")\n",
        "plt.ylabel(\"Emissão\")\n",
        "plt.show()"
      ],
      "metadata": {
        "id": "Ix5OR2me6_gV"
      },
      "execution_count": null,
      "outputs": []
    },
    {
      "cell_type": "code",
      "source": [
        "plt.hist(tamanhomotor, color =\"orange\")\n",
        "plt.title(\"Tamanho do Motor\")\n",
        "plt.xlabel(\"Frequência\")\n",
        "plt.ylabel(\"Emissão\")\n",
        "plt.show()"
      ],
      "metadata": {
        "id": "XpAxJY-kaGT4"
      },
      "execution_count": null,
      "outputs": []
    },
    {
      "cell_type": "code",
      "source": [
        "plt.hist(consumo_na_cidade, color = \"yellow\")\n",
        "plt.title(\"Consumo dos carros na cidade\")\n",
        "plt.show()\n",
        "plt.hist(emissão, color = \"Yellow\")\n",
        "plt.title(\"Emissões\")\n",
        "plt.show()\n",
        "plt.hist(tamanhomotor , color = \"orange\")\n",
        "plt.title(\"Tamanho dos motores da amostra\")\n",
        "plt.show()\n",
        "plt.hist(cilindros, color = \"orange\")\n",
        "plt.title(\"Numero de Cilindros\")\n",
        "plt.show()\n"
      ],
      "metadata": {
        "id": "8unecx9wakQ7"
      },
      "execution_count": null,
      "outputs": []
    },
    {
      "cell_type": "code",
      "source": [
        "dados.hist(figsize=(18,18), color = \"orange\")\n",
        "plt.show()"
      ],
      "metadata": {
        "id": "QMsD8719fcRO"
      },
      "execution_count": null,
      "outputs": []
    },
    {
      "cell_type": "code",
      "source": [
        "plt.scatter(tamanhomotor, consumo_na_cidade, alpha = 0.4, color = \"orange\")\n",
        "plt.xlabel(\"Tamanho do motor\")\n",
        "plt.ylabel(\"Consumo na cidade\")\n",
        "plt.title(\"Relação entre tamanho do motor e consumo de combustível na cidade\")\n",
        "plt.show()"
      ],
      "metadata": {
        "id": "p4LQh2YPgSlJ"
      },
      "execution_count": null,
      "outputs": []
    },
    {
      "cell_type": "code",
      "source": [
        "plt.hist(tipodoveículo, color =\"orange\")\n",
        "plt.title(\"Tipo do veículo\")\n",
        "plt.xlabel(\"Frequência\")\n",
        "plt.ylabel(\"Emissão\")\n",
        "plt.show()"
      ],
      "metadata": {
        "id": "a7lCrgtOiZYq"
      },
      "execution_count": null,
      "outputs": []
    },
    {
      "cell_type": "code",
      "source": [
        "tamanhomotor = np.array(dados [\"ENGINESIZE\"])\n",
        "emissão = np.array(dados [\"CO2EMISSIONS\"])\n",
        "plt.scatter(tamanhomotor, emissão, color=\"orange\",alpha=0.6)\n",
        "plt.title(\"Emissão C0² x Tamanho do Motor\")\n",
        "plt.xlabel(\"Tamanho do Motor\")\n",
        "plt.ylabel(\"Emissão C0²\")\n",
        "plt.show()"
      ],
      "metadata": {
        "id": "slxfWmKcuywN"
      },
      "execution_count": null,
      "outputs": []
    },
    {
      "cell_type": "code",
      "source": [
        "plt.scatter(consumo_combinado, emissão, tamanhomotor, alpha=0.2)\n",
        "plt.title(\"consumo combinado x Tamanho do Motor\")\n",
        "plt.xlabel(\"Tamanho do Motor\")\n",
        "plt.ylabel(\"Emissão C0²\")\n",
        "plt.colorbar()\n",
        "plt.show()"
      ],
      "metadata": {
        "id": "Zk9XJE5scssv"
      },
      "execution_count": null,
      "outputs": []
    },
    {
      "cell_type": "markdown",
      "source": [
        "# Análise"
      ],
      "metadata": {
        "id": "-3vy46K1hOmw"
      }
    },
    {
      "cell_type": "markdown",
      "source": [
        "Segundo o estudo apresentado podemos dizer que carros que possuem motores menores consomem e emitem menos Co² tanto em cidade quando nas rodovias. Consequentemente carros que possuem motores maiores possuem o maior consumo e emissão de Co²."
      ],
      "metadata": {
        "id": "Kq64TdMlhTKc"
      }
    },
    {
      "cell_type": "markdown",
      "source": [
        "# Análise de Correlação "
      ],
      "metadata": {
        "id": "c05NuBxXR5Z0"
      }
    },
    {
      "cell_type": "code",
      "source": [
        "matrix_corr = dados.corr()\n",
        "\n",
        "print(matrix_corr)"
      ],
      "metadata": {
        "id": "I6SY7dEgS70f"
      },
      "execution_count": null,
      "outputs": []
    },
    {
      "cell_type": "code",
      "source": [
        "dados.describe()"
      ],
      "metadata": {
        "id": "xO1w25SwmCVn"
      },
      "execution_count": null,
      "outputs": []
    },
    {
      "cell_type": "code",
      "source": [
        "train_set, test_set = train_test_split(dados, test_size = 0.2, random_state = 42)"
      ],
      "metadata": {
        "id": "ErULIqIECDSV"
      },
      "execution_count": null,
      "outputs": []
    },
    {
      "cell_type": "code",
      "source": [
        "ami = np.array(dados[\"FUELCONSUMPTION_CITY\"])"
      ],
      "metadata": {
        "id": "22Wh89JkCKND"
      },
      "execution_count": null,
      "outputs": []
    },
    {
      "cell_type": "code",
      "source": [
        "#diminuindo o número de classes e arredondando\n",
        "amiS=ami/1\n",
        "print(ami[:10])\n",
        "print(amiS[:10])\n",
        "#arredondamento\n",
        "amiSc=np.ceil(amiS)\n",
        "print(amiSc[:10])\n",
        "#ajuste para limite\n",
        "for x in range(len(amiSc)):\n",
        "    if amiSc[x] >= 15:\n",
        "        amiSc[x] = 15\n",
        "print(amiSc[:10])"
      ],
      "metadata": {
        "id": "jFLLF3rTCOYe"
      },
      "execution_count": null,
      "outputs": []
    },
    {
      "cell_type": "code",
      "source": [
        "plt.hist(amiSc)\n",
        "plt.show()"
      ],
      "metadata": {
        "id": "iZ5PDQaKCUsH"
      },
      "execution_count": null,
      "outputs": []
    }
  ]
}